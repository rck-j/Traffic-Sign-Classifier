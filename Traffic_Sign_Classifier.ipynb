{
 "cells": [
  {
   "cell_type": "markdown",
   "metadata": {},
   "source": [
    "# Self-Driving Car Engineer Nanodegree\n",
    "\n",
    "## Deep Learning\n",
    "\n",
    "## Project: Build a Traffic Sign Recognition Classifier\n",
    "\n",
    "In this notebook, a template is provided for you to implement your functionality in stages, which is required to successfully complete this project. If additional code is required that cannot be included in the notebook, be sure that the Python code is successfully imported and included in your submission if necessary. \n",
    "\n",
    "> **Note**: Once you have completed all of the code implementations, you need to finalize your work by exporting the iPython Notebook as an HTML document. Before exporting the notebook to html, all of the code cells need to have been run so that reviewers can see the final implementation and output. You can then export the notebook by using the menu above and navigating to  \\n\",\n",
    "    \"**File -> Download as -> HTML (.html)**. Include the finished document along with this notebook as your submission. \n",
    "\n",
    "In addition to implementing code, there is a writeup to complete. The writeup should be completed in a separate file, which can be either a markdown file or a pdf document. There is a [write up template](https://github.com/udacity/CarND-Traffic-Sign-Classifier-Project/blob/master/writeup_template.md) that can be used to guide the writing process. Completing the code template and writeup template will cover all of the [rubric points](https://review.udacity.com/#!/rubrics/481/view) for this project.\n",
    "\n",
    "The [rubric](https://review.udacity.com/#!/rubrics/481/view) contains \"Stand Out Suggestions\" for enhancing the project beyond the minimum requirements. The stand out suggestions are optional. If you decide to pursue the \"stand out suggestions\", you can include the code in this Ipython notebook and also discuss the results in the writeup file.\n",
    "\n",
    "\n",
    ">**Note:** Code and Markdown cells can be executed using the **Shift + Enter** keyboard shortcut. In addition, Markdown cells can be edited by typically double-clicking the cell to enter edit mode."
   ]
  },
  {
   "cell_type": "markdown",
   "metadata": {},
   "source": [
    "---\n",
    "## Step 0: Load The Data"
   ]
  },
  {
   "cell_type": "code",
   "execution_count": 1,
   "metadata": {
    "collapsed": false
   },
   "outputs": [],
   "source": [
    "# Load pickled data\n",
    "import pickle\n",
    "\n",
    "# TODO: Fill this in based on where you saved the training and testing data\n",
    "\n",
    "training_file = 'train.p'\n",
    "validation_file= 'valid.p'\n",
    "testing_file = 'test.p'\n",
    "\n",
    "with open(training_file, mode='rb') as f:\n",
    "    train = pickle.load(f)\n",
    "with open(validation_file, mode='rb') as f:\n",
    "    valid = pickle.load(f)\n",
    "with open(testing_file, mode='rb') as f:\n",
    "    test = pickle.load(f)\n",
    "    \n",
    "X_train, y_train = train['features'], train['labels']\n",
    "X_valid, y_valid = valid['features'], valid['labels']\n",
    "X_test, y_test = test['features'], test['labels']"
   ]
  },
  {
   "cell_type": "markdown",
   "metadata": {},
   "source": [
    "---\n",
    "\n",
    "## Step 1: Dataset Summary & Exploration\n",
    "\n",
    "The pickled data is a dictionary with 4 key/value pairs:\n",
    "\n",
    "- `'features'` is a 4D array containing raw pixel data of the traffic sign images, (num examples, width, height, channels).\n",
    "- `'labels'` is a 1D array containing the label/class id of the traffic sign. The file `signnames.csv` contains id -> name mappings for each id.\n",
    "- `'sizes'` is a list containing tuples, (width, height) representing the the original width and height the image.\n",
    "- `'coords'` is a list containing tuples, (x1, y1, x2, y2) representing coordinates of a bounding box around the sign in the image. **THESE COORDINATES ASSUME THE ORIGINAL IMAGE. THE PICKLED DATA CONTAINS RESIZED VERSIONS (32 by 32) OF THESE IMAGES**\n",
    "\n",
    "Complete the basic data summary below. Use python, numpy and/or pandas methods to calculate the data summary rather than hard coding the results. For example, the [pandas shape method](http://pandas.pydata.org/pandas-docs/stable/generated/pandas.DataFrame.shape.html) might be useful for calculating some of the summary results. "
   ]
  },
  {
   "cell_type": "markdown",
   "metadata": {},
   "source": [
    "### Provide a Basic Summary of the Data Set Using Python, Numpy and/or Pandas"
   ]
  },
  {
   "cell_type": "code",
   "execution_count": 2,
   "metadata": {
    "collapsed": false
   },
   "outputs": [
    {
     "name": "stdout",
     "output_type": "stream",
     "text": [
      "Number of training examples = 34799\n",
      "Number of testing examples = 12630\n",
      "Image data shape = (32, 32, 3)\n",
      "Number of classes = 43\n"
     ]
    }
   ],
   "source": [
    "### Replace each question mark with the appropriate value. \n",
    "### Use python, pandas or numpy methods rather than hard coding the results\n",
    "\n",
    "# TODO: Number of training examples\n",
    "n_train = X_train.shape[0]\n",
    "\n",
    "# TODO: Number of testing examples.\n",
    "n_test = X_test.shape[0]\n",
    "\n",
    "# TODO: What's the shape of an traffic sign image?\n",
    "image_shape = X_train[0].shape\n",
    "\n",
    "# TODO: How many unique classes/labels there are in the dataset.\n",
    "n_classes = len(set(y_train))\n",
    "\n",
    "print(\"Number of training examples =\", n_train)\n",
    "print(\"Number of testing examples =\", n_test)\n",
    "print(\"Image data shape =\", image_shape)\n",
    "print(\"Number of classes =\", n_classes)"
   ]
  },
  {
   "cell_type": "markdown",
   "metadata": {},
   "source": [
    "### Include an exploratory visualization of the dataset"
   ]
  },
  {
   "cell_type": "markdown",
   "metadata": {},
   "source": [
    "Visualize the German Traffic Signs Dataset using the pickled file(s). This is open ended, suggestions include: plotting traffic sign images, plotting the count of each sign, etc.\n",
    "\n",
    "The [Matplotlib](http://matplotlib.org/) [examples](http://matplotlib.org/examples/index.html) and [gallery](http://matplotlib.org/gallery.html) pages are a great resource for doing visualizations in Python.\n",
    "\n",
    "**NOTE:** It's recommended you start with something simple first. If you wish to do more, come back to it after you've completed the rest of the sections."
   ]
  },
  {
   "cell_type": "code",
   "execution_count": 3,
   "metadata": {
    "collapsed": false
   },
   "outputs": [
    {
     "data": {
      "image/png": "[encoded data removed]",
      "text/plain": [
       "<matplotlib.figure.Figure at 0x7f8d0ca03470>"
      ]
     },
     "metadata": {},
     "output_type": "display_data"
    }
   ],
   "source": [
    "### Data exploration visualization code goes here.\n",
    "### Feel free to use as many code cells as needed.\n",
    "import matplotlib.pyplot as plt\n",
    "# Visualizations will be shown in the notebook.\n",
    "%matplotlib inline\n",
    "\n",
    "\n",
    "\n",
    "plt.suptitle(\"Training & Testing\")\n",
    "plt.hist(y_train, bins=43, label=\"Training\")\n",
    "plt.hist(y_test, bins=43, label=\"Testing\")\n",
    "plt.xlabel(\"Classes\")\n",
    "plt.ylabel(\"Frequency\")\n",
    "plt.legend(bbox_to_anchor=(1.05, 1), loc=2, borderaxespad=0.)\n",
    "plt.show()"
   ]
  },
  {
   "cell_type": "markdown",
   "metadata": {},
   "source": [
    "----\n",
    "\n",
    "## Step 2: Design and Test a Model Architecture\n",
    "\n",
    "Design and implement a deep learning model that learns to recognize traffic signs. Train and test your model on the [German Traffic Sign Dataset](http://benchmark.ini.rub.de/?section=gtsrb&subsection=dataset).\n",
    "\n",
    "There are various aspects to consider when thinking about this problem:\n",
    "\n",
    "- Neural network architecture\n",
    "- Play around preprocessing techniques (normalization, rgb to grayscale, etc)\n",
    "- Number of examples per label (some have more than others).\n",
    "- Generate fake data.\n",
    "\n",
    "Here is an example of a [published baseline model on this problem](http://yann.lecun.com/exdb/publis/pdf/sermanet-ijcnn-11.pdf). It's not required to be familiar with the approach used in the paper but, it's good practice to try to read papers like these.\n",
    "\n",
    "**NOTE:** The LeNet-5 implementation shown in the [classroom](https://classroom.udacity.com/nanodegrees/nd013/parts/fbf77062-5703-404e-b60c-95b78b2f3f9e/modules/6df7ae49-c61c-4bb2-a23e-6527e69209ec/lessons/601ae704-1035-4287-8b11-e2c2716217ad/concepts/d4aca031-508f-4e0b-b493-e7b706120f81) at the end of the CNN lesson is a solid starting point. You'll have to change the number of classes and possibly the preprocessing, but aside from that it's plug and play!"
   ]
  },
  {
   "cell_type": "markdown",
   "metadata": {},
   "source": [
    "### Pre-process the Data Set (normalization, grayscale, etc.)"
   ]
  },
  {
   "cell_type": "markdown",
   "metadata": {},
   "source": [
    "Use the code cell (or multiple code cells, if necessary) to implement the first step of your project."
   ]
  },
  {
   "cell_type": "code",
   "execution_count": 4,
   "metadata": {
    "collapsed": true
   },
   "outputs": [],
   "source": [
    "### Preprocess the data here. Preprocessing steps could include normalization, converting to grayscale, etc.\n",
    "### Feel free to use as many code cells as needed.\n",
    "\n",
    "# Tried to implement the preprocessing from the paper linked in the template.\n",
    "# Convert to YUV and normalize the Y channel. Used CLAHE to normalize the Y channel.\n",
    "\n",
    "import cv2\n",
    "import numpy as np\n",
    "import random\n",
    "\n",
    "test = random.randint(0, X_train.shape[0]) - 1\n",
    "test_image = np.copy(X_train[test])\n",
    "\n",
    "def PreProc(images):\n",
    "    clahe = cv2.createCLAHE(clipLimit=2.0, tileGridSize=(2,2))\n",
    "    for i in range((images.shape[0])):\n",
    "        images[i] = cv2.cvtColor(images[i], cv2.COLOR_RGB2YUV)\n",
    "        images[i][:,:,0] = clahe.apply(images[i][:,:,0])\n",
    "        #images[i][:,:,1] = clahe.apply(images[i][:,:,1])\n",
    "        #images[i][:,:,2] = clahe.apply(images[i][:,:,2])\n",
    "        images[i] = cv2.cvtColor(images[i], cv2.COLOR_YUV2RGB)\n",
    "\n",
    "    return images\n"
   ]
  },
  {
   "cell_type": "code",
   "execution_count": 5,
   "metadata": {
    "collapsed": false
   },
   "outputs": [],
   "source": [
    "# Preprocess all the data.\n",
    "\n",
    "X_train = PreProc(X_train)\n",
    "X_valid = PreProc(X_valid)\n",
    "X_test  = PreProc(X_test)"
   ]
  },
  {
   "cell_type": "code",
   "execution_count": 6,
   "metadata": {
    "collapsed": false
   },
   "outputs": [
    {
     "data": {
      "text/plain": [
       "(<matplotlib.axes._subplots.AxesSubplot at 0x7f8cd68ca978>,\n",
       " <matplotlib.image.AxesImage at 0x7f8cd67d4b00>,\n",
       " <matplotlib.text.Text at 0x7f8cd681cdd8>,\n",
       " (-0.5, 31.5, 31.5, -0.5))"
      ]
     },
     "execution_count": 6,
     "metadata": {},
     "output_type": "execute_result"
    },
    {
     "data": {
      "image/png": "[encoded data removed]",
      "text/plain": [
       "<matplotlib.figure.Figure at 0x7f8cd68ca9b0>"
      ]
     },
     "metadata": {},
     "output_type": "display_data"
    }
   ],
   "source": [
    "# Compare results of preprocessing.\n",
    "\n",
    "plt.subplot(1,2,1),plt.imshow(test_image),plt.title('Original ' + str(y_train[test])),plt.axis('off')\n",
    "plt.subplot(1,2,2),plt.imshow(X_train[test]),plt.title('Processed ' + str(y_train[test])),plt.axis('off')"
   ]
  },
  {
   "cell_type": "markdown",
   "metadata": {},
   "source": [
    "### Model Architecture"
   ]
  },
  {
   "cell_type": "code",
   "execution_count": 17,
   "metadata": {
    "collapsed": true
   },
   "outputs": [],
   "source": [
    "### Define your architecture here.\n",
    "### Feel free to use as many code cells as needed.\n",
    "\n",
    "import tensorflow as tf\n",
    "from tensorflow.contrib.layers import flatten\n",
    "\n",
    "def KindaVGG(x):    \n",
    "    # Arguments used for tf.truncated_normal, randomly defines variables for the weights and biases for each layer\n",
    "    mu = 0\n",
    "    sigma = 0.1\n",
    "    \n",
    "    # Layer 1: Convolutional. Input = 32x32x3. Output = 32x32x64.\n",
    "    conv1_W = tf.Variable(tf.truncated_normal(shape=(3, 3, 3, 64), mean = mu, stddev = sigma))\n",
    "    conv1_b = tf.Variable(tf.zeros(64))\n",
    "    conv1   = tf.nn.conv2d(x, conv1_W, strides=[1, 1, 1, 1], padding='SAME') + conv1_b\n",
    "\n",
    "    # Activation.\n",
    "    conv1 = tf.nn.relu(conv1)\n",
    "    \n",
    "    # Layer 1_1:  Convolutional. Input = 32x32x64. Output = 32x32x64.\n",
    "    conv1_1W = tf.Variable(tf.truncated_normal(shape=(3, 3, 64, 64), mean = mu, stddev = sigma))\n",
    "    conv1_1b = tf.Variable(tf.zeros(64))\n",
    "    conv1_1  = tf.nn.conv2d(conv1, conv1_1W, strides=[1, 1, 1, 1], padding='SAME') + conv1_1b\n",
    "    \n",
    "    # Activation.\n",
    "    conv1_1 = tf.nn.relu(conv1_1)\n",
    "    \n",
    "    # Pooling. Input = 32x32x64. Output = 16x16x64.\n",
    "    conv1_1 = tf.nn.max_pool(conv1_1, ksize=[1, 2, 2, 1], strides=[1, 2, 2, 1], padding='SAME')\n",
    "    \n",
    "    ## Layer 2: Convolutional. Input = 16x16x64. Output = 16x16x128.\n",
    "    conv2_W = tf.Variable(tf.truncated_normal(shape=(3, 3, 64, 128), mean = mu, stddev = sigma))\n",
    "    conv2_b = tf.Variable(tf.zeros(128))\n",
    "    conv2   = tf.nn.conv2d(conv1_1, conv2_W, strides=[1, 1, 1, 1], padding='SAME') + conv2_b\n",
    "    \n",
    "    ## Activation.\n",
    "    conv2 = tf.nn.relu(conv2)\n",
    "    \n",
    "    ## Layer 2_1: Convolutional. Input = 16x16x128. Output = 16x16x128.\n",
    "    conv2_1W = tf.Variable(tf.truncated_normal(shape=(3, 3, 128, 128), mean = mu, stddev = sigma))\n",
    "    conv2_1b = tf.Variable(tf.zeros(128))\n",
    "    conv2_1  = tf.nn.conv2d(conv2, conv2_1W, strides=[1, 1, 1, 1], padding='SAME') + conv2_1b\n",
    "    \n",
    "    ## Activation.\n",
    "    conv2_1 = tf.nn.relu(conv2_1)\n",
    "\n",
    "    ## Pooling. Input = 16x16x128. Output = 8x8x128.\n",
    "    conv2_1 = tf.nn.max_pool(conv2_1, ksize=[1, 2, 2, 1], strides=[1, 2, 2, 1], padding='SAME')\n",
    "\n",
    "    ### Layer 3: Convolutional. Input = 8x8x128. Output = 8x8x256.\n",
    "    conv3_W = tf.Variable(tf.truncated_normal(shape=(3, 3, 128, 256), mean = mu, stddev = sigma))\n",
    "    conv3_b = tf.Variable(tf.zeros(256))\n",
    "    conv3  = tf.nn.conv2d(conv2_1, conv3_W, strides=[1, 1, 1, 1], padding='SAME') + conv3_b\n",
    "    \n",
    "    ### Activation.\n",
    "    conv3 = tf.nn.relu(conv3)\n",
    "    \n",
    "    ### Layer 3_1: Convolutional. Input = 8x8x256. Output = 8x8x256.\n",
    "    conv3_1W = tf.Variable(tf.truncated_normal(shape=(3, 3, 256, 256), mean = mu, stddev = sigma))\n",
    "    conv3_1b = tf.Variable(tf.zeros(256))\n",
    "    conv3_1  = tf.nn.conv2d(conv3, conv3_1W, strides=[1, 1, 1, 1], padding='SAME') + conv3_1b\n",
    "    \n",
    "    ### Activation.\n",
    "    conv3_1 = tf.nn.relu(conv3_1)\n",
    "\n",
    "    ### Layer 3_1: Convolutional. Input = 8x8x256. Output = 8x8x256.\n",
    "    conv3_2W = tf.Variable(tf.truncated_normal(shape=(3, 3, 256, 256), mean = mu, stddev = sigma))\n",
    "    conv3_2b = tf.Variable(tf.zeros(256))\n",
    "    conv3_2  = tf.nn.conv2d(conv3_1, conv3_2W, strides=[1, 1, 1, 1], padding='SAME') + conv3_2b\n",
    "    \n",
    "    ### Activation.\n",
    "    conv3_2 = tf.nn.relu(conv3_2)\n",
    "\n",
    "    ### Pooling. Input = 8x8x256. Output = 4x4x256.\n",
    "    conv3_2 = tf.nn.max_pool(conv3_2, ksize=[1, 2, 2, 1], strides=[1, 2, 2, 1], padding='SAME')\n",
    "    \n",
    "\n",
    "    #### Layer 4: Convolutional. Input = 4x4x256. Output = 4x4x512.\n",
    "    conv4_W = tf.Variable(tf.truncated_normal(shape=(3, 3, 256, 512), mean = mu, stddev = sigma))\n",
    "    conv4_b = tf.Variable(tf.zeros(512))\n",
    "    conv4  = tf.nn.conv2d(conv3_2, conv4_W, strides=[1, 1, 1, 1], padding='SAME') + conv4_b\n",
    "\n",
    "    #### Activation.\n",
    "    conv4 = tf.nn.relu(conv4)\n",
    "\n",
    "    #### Layer 4_1: Convolutional. Input = 4x4x512. Output = 4x4x512.\n",
    "    conv4_1W = tf.Variable(tf.truncated_normal(shape=(3, 3, 512, 512), mean = mu, stddev = sigma))\n",
    "    conv4_1b = tf.Variable(tf.zeros(512))\n",
    "    conv4_1  = tf.nn.conv2d(conv4, conv4_1W, strides=[1, 1, 1, 1], padding='SAME') + conv4_1b\n",
    "\n",
    "    #### Activation.\n",
    "    conv4_1 = tf.nn.relu(conv4_1)\n",
    "\n",
    "    #### Layer 4_1: Convolutional. Input = 4x4x512. Output = 4x4x512.\n",
    "    conv4_2W = tf.Variable(tf.truncated_normal(shape=(3, 3, 512, 512), mean = mu, stddev = sigma))\n",
    "    conv4_2b = tf.Variable(tf.zeros(512))\n",
    "    conv4_2  = tf.nn.conv2d(conv4_1, conv4_2W, strides=[1, 1, 1, 1], padding='SAME') + conv4_2b\n",
    "\n",
    "\n",
    "    #### Activation.\n",
    "    conv4_2 = tf.nn.relu(conv4_2)\n",
    "\n",
    "    #### Pooling. Input = 4x4x512. Output = 2x2x512.\n",
    "    conv4_2 = tf.nn.max_pool(conv2_1, ksize=[1, 2, 2, 1], strides=[1, 2, 2, 1], padding='SAME')\n",
    "\n",
    "    \n",
    "    #######################################\n",
    "\n",
    "    # Flatten. Input = 2x2x512. Output = 2048.\n",
    "    fc0   = flatten(conv4_2)\n",
    "    \n",
    "    # Layer 1: Fully Connected. Input = 2048. Output = 334.\n",
    "    fc1_W = tf.Variable(tf.truncated_normal(shape=(2048, 301), mean = mu, stddev = sigma))\n",
    "    fc1_b = tf.Variable(tf.zeros(301))\n",
    "    fc1   = tf.matmul(fc0, fc1_W) + fc1_b\n",
    "    \n",
    "    # Activation.\n",
    "    fc1    = tf.nn.relu(fc1)\n",
    "\n",
    "    # Layer 2: Fully Connected. Input = 334. Output = 334.\n",
    "    fc2_W  = tf.Variable(tf.truncated_normal(shape=(301, 301), mean = mu, stddev = sigma))\n",
    "    fc2_b  = tf.Variable(tf.zeros(301))\n",
    "    fc2    = tf.matmul(fc1, fc2_W) + fc2_b\n",
    "    \n",
    "    # Activation.\n",
    "    fc2    = tf.nn.relu(fc2)\n",
    "\n",
    "    # Layer 3: Fully Connected. Input = 334. Output = 43.\n",
    "    fc3_W  = tf.Variable(tf.truncated_normal(shape=(301, 43), mean = mu, stddev = sigma))\n",
    "    fc3_b  = tf.Variable(tf.zeros(43))\n",
    "    \n",
    "    logits = tf.matmul(fc2, fc3_W) + fc3_b\n",
    "\n",
    "    return logits"
   ]
  },
  {
   "cell_type": "markdown",
   "metadata": {},
   "source": [
    "### Train, Validate and Test the Model"
   ]
  },
  {
   "cell_type": "markdown",
   "metadata": {},
   "source": [
    "A validation set can be used to assess how well the model is performing. A low accuracy on the training and validation\n",
    "sets imply underfitting. A high accuracy on the test set but low accuracy on the validation set implies overfitting."
   ]
  },
  {
   "cell_type": "code",
   "execution_count": 14,
   "metadata": {
    "collapsed": true
   },
   "outputs": [],
   "source": [
    "### Train your model here.\n",
    "### Calculate and report the accuracy on the training and validation set.\n",
    "### Once a final model architecture is selected, \n",
    "### the accuracy on the test set should be calculated and reported as well.\n",
    "### Feel free to use as many code cells as needed.\n",
    "\n",
    "EPOCHS = 40\n",
    "BATCH_SIZE = 126\n",
    "rate = 0.001"
   ]
  },
  {
   "cell_type": "code",
   "execution_count": 15,
   "metadata": {
    "collapsed": true
   },
   "outputs": [],
   "source": [
    "x = tf.placeholder(tf.float32, (None, 32, 32, 3))\n",
    "y = tf.placeholder(tf.int32, (None))\n",
    "one_hot_y = tf.one_hot(y, 43)"
   ]
  },
  {
   "cell_type": "code",
   "execution_count": 18,
   "metadata": {
    "collapsed": false
   },
   "outputs": [],
   "source": [
    "logits = KindaVGG(x)\n",
    "cross_entropy = tf.nn.softmax_cross_entropy_with_logits(logits, one_hot_y)\n",
    "loss_operation = tf.reduce_mean(cross_entropy)\n",
    "optimizer = tf.train.AdamOptimizer(learning_rate = rate)\n",
    "training_operation = optimizer.minimize(loss_operation)"
   ]
  },
  {
   "cell_type": "code",
   "execution_count": 19,
   "metadata": {
    "collapsed": true
   },
   "outputs": [],
   "source": [
    "correct_prediction = tf.equal(tf.argmax(logits, 1), tf.argmax(one_hot_y, 1))\n",
    "accuracy_operation = tf.reduce_mean(tf.cast(correct_prediction, tf.float32))\n",
    "saver = tf.train.Saver()\n",
    "\n",
    "def evaluate(X_data, y_data):\n",
    "    num_examples = len(X_data)\n",
    "    total_accuracy = 0\n",
    "    sess = tf.get_default_session()\n",
    "    for offset in range(0, num_examples, BATCH_SIZE):\n",
    "        batch_x, batch_y = X_data[offset:offset+BATCH_SIZE], y_data[offset:offset+BATCH_SIZE]\n",
    "        accuracy = sess.run(accuracy_operation, feed_dict={x: batch_x, y: batch_y})\n",
    "        total_accuracy += (accuracy * len(batch_x))\n",
    "    return total_accuracy / num_examples"
   ]
  },
  {
   "cell_type": "code",
   "execution_count": 20,
   "metadata": {
    "collapsed": false
   },
   "outputs": [
    {
     "name": "stdout",
     "output_type": "stream",
     "text": [
      "Training...\n",
      "\n",
      "EPOCH 1 ...\n",
      "Validation Accuracy = 0.278\n",
      "\n",
      "EPOCH 2 ...\n",
      "Validation Accuracy = 0.478\n",
      "\n",
      "EPOCH 3 ...\n",
      "Validation Accuracy = 0.606\n",
      "\n",
      "EPOCH 4 ...\n",
      "Validation Accuracy = 0.694\n",
      "\n",
      "EPOCH 5 ...\n",
      "Validation Accuracy = 0.738\n",
      "\n",
      "EPOCH 6 ...\n",
      "Validation Accuracy = 0.786\n",
      "\n",
      "EPOCH 7 ...\n",
      "Validation Accuracy = 0.796\n",
      "\n",
      "EPOCH 8 ...\n",
      "Validation Accuracy = 0.817\n",
      "\n",
      "EPOCH 9 ...\n",
      "Validation Accuracy = 0.815\n",
      "\n",
      "EPOCH 10 ...\n",
      "Validation Accuracy = 0.838\n",
      "\n",
      "EPOCH 11 ...\n",
      "Validation Accuracy = 0.816\n",
      "\n",
      "EPOCH 12 ...\n",
      "Validation Accuracy = 0.830\n",
      "\n",
      "EPOCH 13 ...\n",
      "Validation Accuracy = 0.846\n",
      "\n",
      "EPOCH 14 ...\n",
      "Validation Accuracy = 0.867\n",
      "\n",
      "EPOCH 15 ...\n",
      "Validation Accuracy = 0.873\n",
      "\n",
      "EPOCH 16 ...\n",
      "Validation Accuracy = 0.895\n",
      "\n",
      "EPOCH 17 ...\n",
      "Validation Accuracy = 0.878\n",
      "\n",
      "EPOCH 18 ...\n",
      "Validation Accuracy = 0.843\n",
      "\n",
      "EPOCH 19 ...\n",
      "Validation Accuracy = 0.907\n",
      "\n",
      "EPOCH 20 ...\n",
      "Validation Accuracy = 0.883\n",
      "\n",
      "EPOCH 21 ...\n",
      "Validation Accuracy = 0.883\n",
      "\n",
      "EPOCH 22 ...\n",
      "Validation Accuracy = 0.905\n",
      "\n",
      "EPOCH 23 ...\n",
      "Validation Accuracy = 0.921\n",
      "\n",
      "EPOCH 24 ...\n",
      "Validation Accuracy = 0.907\n",
      "\n",
      "EPOCH 25 ...\n",
      "Validation Accuracy = 0.905\n",
      "\n",
      "EPOCH 26 ...\n",
      "Validation Accuracy = 0.915\n",
      "\n",
      "EPOCH 27 ...\n",
      "Validation Accuracy = 0.939\n",
      "\n",
      "EPOCH 28 ...\n",
      "Validation Accuracy = 0.918\n",
      "\n",
      "EPOCH 29 ...\n",
      "Validation Accuracy = 0.942\n",
      "\n",
      "EPOCH 30 ...\n",
      "Validation Accuracy = 0.940\n",
      "\n",
      "EPOCH 31 ...\n",
      "Validation Accuracy = 0.949\n",
      "\n",
      "EPOCH 32 ...\n",
      "Validation Accuracy = 0.954\n",
      "\n",
      "EPOCH 33 ...\n",
      "Validation Accuracy = 0.957\n",
      "\n",
      "EPOCH 34 ...\n",
      "Validation Accuracy = 0.939\n",
      "\n",
      "EPOCH 35 ...\n",
      "Validation Accuracy = 0.937\n",
      "\n",
      "EPOCH 36 ...\n",
      "Validation Accuracy = 0.933\n",
      "\n",
      "EPOCH 37 ...\n",
      "Validation Accuracy = 0.954\n",
      "\n",
      "EPOCH 38 ...\n",
      "Validation Accuracy = 0.960\n",
      "\n",
      "EPOCH 39 ...\n",
      "Validation Accuracy = 0.957\n",
      "\n",
      "EPOCH 40 ...\n",
      "Validation Accuracy = 0.966\n",
      "\n",
      "Model saved\n"
     ]
    }
   ],
   "source": [
    "# Train\n",
    "\n",
    "from sklearn.utils import shuffle\n",
    "\n",
    "with tf.Session() as sess:\n",
    "    sess.run(tf.global_variables_initializer())\n",
    "    num_examples = len(X_train)\n",
    "    \n",
    "    print(\"Training...\")\n",
    "    print()\n",
    "    for i in range(EPOCHS):\n",
    "        X_train, y_train = shuffle(X_train, y_train)\n",
    "        for offset in range(0, num_examples, BATCH_SIZE):\n",
    "            end = offset + BATCH_SIZE\n",
    "            batch_x, batch_y = X_train[offset:end], y_train[offset:end]\n",
    "            sess.run(training_operation, feed_dict={x: batch_x, y: batch_y})\n",
    "            \n",
    "        validation_accuracy = evaluate(X_valid, y_valid)\n",
    "        print(\"EPOCH {} ...\".format(i+1))\n",
    "        print(\"Validation Accuracy = {:.3f}\".format(validation_accuracy))\n",
    "        print()\n",
    "        \n",
    "    saver.save(sess, './kinda_vgg')\n",
    "    print(\"Model saved\")"
   ]
  },
  {
   "cell_type": "code",
   "execution_count": 21,
   "metadata": {
    "collapsed": false
   },
   "outputs": [
    {
     "name": "stdout",
     "output_type": "stream",
     "text": [
      "Test Accuracy = 0.945\n"
     ]
    }
   ],
   "source": [
    "# Test\n",
    "with tf.Session() as sess:\n",
    "    saver.restore(sess, tf.train.latest_checkpoint('.'))\n",
    "    \n",
    "    test_accuracy = evaluate(X_test, y_test)\n",
    "    print(\"Test Accuracy = {:.3f}\".format(test_accuracy))"
   ]
  },
  {
   "cell_type": "markdown",
   "metadata": {},
   "source": [
    "---\n",
    "\n",
    "## Step 3: Test a Model on New Images\n",
    "\n",
    "To give yourself more insight into how your model is working, download at least five pictures of German traffic signs from the web and use your model to predict the traffic sign type.\n",
    "\n",
    "You may find `signnames.csv` useful as it contains mappings from the class id (integer) to the actual sign name."
   ]
  },
  {
   "cell_type": "markdown",
   "metadata": {},
   "source": [
    "### Load and Output the Images"
   ]
  },
  {
   "cell_type": "code",
   "execution_count": 22,
   "metadata": {
    "collapsed": true
   },
   "outputs": [],
   "source": [
    "### Load the images and plot them here.\n",
    "### Feel free to use as many code cells as needed.\n",
    "import os\n",
    "import matplotlib.image as mpimg\n",
    "\n",
    "\n",
    "def MyImages(files):\n",
    "    #Remove weird stuff from the directory\n",
    "    for file in files:\n",
    "        if file.startswith('.') == True:\n",
    "            files.pop(files.index(file))\n",
    "        \n",
    "    images = [mpimg.imread(\"./images/\" + f) for f in files]\n",
    "    cropped = [img[38:262, 0:224] for img in images]\n",
    "    resized = [cv2.resize(crop, (32, 32), interpolation=cv2.INTER_AREA) for crop in cropped]\n",
    "\n",
    "    #Save images for later\n",
    "    for file, resize in zip(files, resized):\n",
    "        name = \"./images/small_\" + file\n",
    "        cv2.imwrite(name, cv2.cvtColor(resize, cv2.COLOR_BGR2RGB))\n",
    "        \n",
    "    return resized"
   ]
  },
  {
   "cell_type": "code",
   "execution_count": 23,
   "metadata": {
    "collapsed": false
   },
   "outputs": [
    {
     "name": "stdout",
     "output_type": "stream",
     "text": [
      "(5, 32, 32, 3)\n"
     ]
    }
   ],
   "source": [
    "#Need to load and resize images\n",
    "files = os.listdir(\"./images/\")\n",
    "my_images = MyImages(files)    \n",
    "my_images = np.asarray(my_images)\n",
    "\n",
    "print(my_images.shape)"
   ]
  },
  {
   "cell_type": "code",
   "execution_count": 24,
   "metadata": {
    "collapsed": true
   },
   "outputs": [],
   "source": [
    "# Create Labels\n",
    "my_labels = [17, 11, 12, 2, 15]\n",
    "my_labels = np.asarray(my_labels)"
   ]
  },
  {
   "cell_type": "code",
   "execution_count": 25,
   "metadata": {
    "collapsed": false
   },
   "outputs": [
    {
     "data": {
      "text/plain": [
       "(<matplotlib.axes._subplots.AxesSubplot at 0x7f8c60e74668>,\n",
       " <matplotlib.image.AxesImage at 0x7f8c6044a4e0>,\n",
       " <matplotlib.text.Text at 0x7f8c8006a240>,\n",
       " (-0.5, 31.5, 31.5, -0.5))"
      ]
     },
     "execution_count": 25,
     "metadata": {},
     "output_type": "execute_result"
    },
    {
     "data": {
      "image/png": "[encoded data removed]",
      "text/plain": [
       "<matplotlib.figure.Figure at 0x7f8c701b5438>"
      ]
     },
     "metadata": {},
     "output_type": "display_data"
    }
   ],
   "source": [
    "plt.subplot(1,5,1),plt.imshow(my_images[0]),plt.title(my_labels[0]),plt.axis('off')\n",
    "plt.subplot(1,5,2),plt.imshow(my_images[1]),plt.title(my_labels[1]),plt.axis('off')\n",
    "plt.subplot(1,5,3),plt.imshow(my_images[2]),plt.title(my_labels[2]),plt.axis('off')\n",
    "plt.subplot(1,5,4),plt.imshow(my_images[3]),plt.title(my_labels[3]),plt.axis('off')\n",
    "plt.subplot(1,5,5),plt.imshow(my_images[4]),plt.title(my_labels[4]),plt.axis('off')"
   ]
  },
  {
   "cell_type": "markdown",
   "metadata": {},
   "source": [
    "### Predict the Sign Type for Each Image"
   ]
  },
  {
   "cell_type": "code",
   "execution_count": 26,
   "metadata": {
    "collapsed": true
   },
   "outputs": [],
   "source": [
    "### Run the predictions here and use the model to output the prediction for each image.\n",
    "### Make sure to pre-process the images with the same pre-processing pipeline used earlier.\n",
    "### Feel free to use as many code cells as needed.\n",
    "\n",
    "#Preprocess\n",
    "my_images = np.asarray(my_images)\n",
    "my_images = PreProc(my_images)"
   ]
  },
  {
   "cell_type": "code",
   "execution_count": 27,
   "metadata": {
    "collapsed": false
   },
   "outputs": [
    {
     "data": {
      "text/plain": [
       "(<matplotlib.axes._subplots.AxesSubplot at 0x7f8c787500f0>,\n",
       " <matplotlib.image.AxesImage at 0x7f8c786e2128>,\n",
       " <matplotlib.text.Text at 0x7f8c786badd8>,\n",
       " (-0.5, 31.5, 31.5, -0.5))"
      ]
     },
     "execution_count": 27,
     "metadata": {},
     "output_type": "execute_result"
    },
    {
     "data": {
      "image/png": "[encoded data removed]",
      "text/plain": [
       "<matplotlib.figure.Figure at 0x7f8c604690b8>"
      ]
     },
     "metadata": {},
     "output_type": "display_data"
    }
   ],
   "source": [
    "plt.subplot(1,5,1),plt.imshow(my_images[0]),plt.title(my_labels[0]),plt.axis('off')\n",
    "plt.subplot(1,5,2),plt.imshow(my_images[1]),plt.title(my_labels[1]),plt.axis('off')\n",
    "plt.subplot(1,5,3),plt.imshow(my_images[2]),plt.title(my_labels[2]),plt.axis('off')\n",
    "plt.subplot(1,5,4),plt.imshow(my_images[3]),plt.title(my_labels[3]),plt.axis('off')\n",
    "plt.subplot(1,5,5),plt.imshow(my_images[4]),plt.title(my_labels[4]),plt.axis('off')"
   ]
  },
  {
   "cell_type": "code",
   "execution_count": 34,
   "metadata": {
    "collapsed": false
   },
   "outputs": [
    {
     "name": "stdout",
     "output_type": "stream",
     "text": [
      "Image 17 = nan\n",
      "Image 11 = 0.000\n",
      "Image 12 = 0.000\n",
      "Image  2 = 1.000\n",
      "Image 15 = 0.000\n"
     ]
    }
   ],
   "source": [
    "# Test\n",
    "with tf.Session() as sess:\n",
    "    saver.restore(sess, tf.train.latest_checkpoint('.'))\n",
    "    for i in range(my_images.shape[0]):\n",
    "        accuracy = sess.run(accuracy_operation, feed_dict={x: my_images[i - 1: i], y: my_labels[i - 1:i]})\n",
    "        print(\"Image {0:2d} = {1:.3f}\".format(my_labels[i], accuracy))"
   ]
  },
  {
   "cell_type": "markdown",
   "metadata": {},
   "source": [
    "### Analyze Performance"
   ]
  },
  {
   "cell_type": "code",
   "execution_count": 35,
   "metadata": {
    "collapsed": false
   },
   "outputs": [
    {
     "name": "stdout",
     "output_type": "stream",
     "text": [
      "Test Accuracy = 0.200\n"
     ]
    }
   ],
   "source": [
    "### Calculate the accuracy for these 5 new images. \n",
    "### For example, if the model predicted 1 out of 5 signs correctly, it's 20% accurate on these new images.\n",
    "\n",
    "### Just wanted to make sure my evaluation was correct. NOT GOOD\n",
    "\n",
    "# Test\n",
    "with tf.Session() as sess:\n",
    "    saver.restore(sess, tf.train.latest_checkpoint('.'))\n",
    "    \n",
    "    test_accuracy = evaluate(my_images, my_labels)\n",
    "    print(\"Test Accuracy = {:.3f}\".format(test_accuracy))"
   ]
  },
  {
   "cell_type": "markdown",
   "metadata": {},
   "source": [
    "### Output Top 5 Softmax Probabilities For Each Image Found on the Web"
   ]
  },
  {
   "cell_type": "markdown",
   "metadata": {},
   "source": [
    "For each of the new images, print out the model's softmax probabilities to show the **certainty** of the model's predictions (limit the output to the top 5 probabilities for each image). [`tf.nn.top_k`](https://www.tensorflow.org/versions/r0.12/api_docs/python/nn.html#top_k) could prove helpful here. \n",
    "\n",
    "The example below demonstrates how tf.nn.top_k can be used to find the top k predictions for each image.\n",
    "\n",
    "`tf.nn.top_k` will return the values and indices (class ids) of the top k predictions. So if k=3, for each sign, it'll return the 3 largest probabilities (out of a possible 43) and the correspoding class ids.\n",
    "\n",
    "Take this numpy array as an example. The values in the array represent predictions. The array contains softmax probabilities for five candidate images with six possible classes. `tk.nn.top_k` is used to choose the three classes with the highest probability:\n",
    "\n",
    "```\n",
    "# (5, 6) array\n",
    "a = np.array([[ 0.24879643,  0.07032244,  0.12641572,  0.34763842,  0.07893497,\n",
    "         0.12789202],\n",
    "       [ 0.28086119,  0.27569815,  0.08594638,  0.0178669 ,  0.18063401,\n",
    "         0.15899337],\n",
    "       [ 0.26076848,  0.23664738,  0.08020603,  0.07001922,  0.1134371 ,\n",
    "         0.23892179],\n",
    "       [ 0.11943333,  0.29198961,  0.02605103,  0.26234032,  0.1351348 ,\n",
    "         0.16505091],\n",
    "       [ 0.09561176,  0.34396535,  0.0643941 ,  0.16240774,  0.24206137,\n",
    "         0.09155967]])\n",
    "```\n",
    "\n",
    "Running it through `sess.run(tf.nn.top_k(tf.constant(a), k=3))` produces:\n",
    "\n",
    "```\n",
    "TopKV2(values=array([[ 0.34763842,  0.24879643,  0.12789202],\n",
    "       [ 0.28086119,  0.27569815,  0.18063401],\n",
    "       [ 0.26076848,  0.23892179,  0.23664738],\n",
    "       [ 0.29198961,  0.26234032,  0.16505091],\n",
    "       [ 0.34396535,  0.24206137,  0.16240774]]), indices=array([[3, 0, 5],\n",
    "       [0, 1, 4],\n",
    "       [0, 5, 1],\n",
    "       [1, 3, 5],\n",
    "       [1, 4, 3]], dtype=int32))\n",
    "```\n",
    "\n",
    "Looking just at the first row we get `[ 0.34763842,  0.24879643,  0.12789202]`, you can confirm these are the 3 largest probabilities in `a`. You'll also notice `[3, 0, 5]` are the corresponding indices."
   ]
  },
  {
   "cell_type": "code",
   "execution_count": 37,
   "metadata": {
    "collapsed": false
   },
   "outputs": [
    {
     "name": "stdout",
     "output_type": "stream",
     "text": [
      "TopKV2(values=array([[  9.99986291e-01,   1.27114326e-05,   7.39129689e-07,\n",
      "          2.12067334e-07,   6.38713038e-09],\n",
      "       [  1.00000000e+00,   2.08287970e-11,   1.37219871e-14,\n",
      "          1.57252395e-16,   1.08844965e-16],\n",
      "       [  9.98359263e-01,   1.64066639e-03,   2.70867559e-08,\n",
      "          2.39759046e-11,   4.35794196e-12],\n",
      "       [  8.26857328e-01,   1.72925115e-01,   1.17233321e-04,\n",
      "          6.58388599e-05,   3.40926417e-05],\n",
      "       [  8.07663739e-01,   1.54890388e-01,   2.71607712e-02,\n",
      "          7.44388951e-03,   2.53533362e-03]], dtype=float32), indices=array([[13, 10,  9, 12, 42],\n",
      "       [17,  4, 41, 25, 10],\n",
      "       [12, 13, 14, 18, 25],\n",
      "       [13,  4, 38,  8,  2],\n",
      "       [25, 23, 41, 10, 32]], dtype=int32))\n"
     ]
    }
   ],
   "source": [
    "### Print out the top five softmax probabilities for the predictions on the German traffic sign images found on the web. \n",
    "### Feel free to use as many code cells as needed.\n",
    "\n",
    "soft = tf.nn.softmax(logits)\n",
    "top = tf.nn.top_k(soft, 5)\n",
    "\n",
    "with tf.Session() as sess:\n",
    "    saver.restore(sess, tf.train.latest_checkpoint('.'))\n",
    "    \n",
    "    output = sess.run(top, feed_dict={x: my_images, y: my_labels})\n",
    "    print(output)\n",
    "    \n",
    "    "
   ]
  },
  {
   "cell_type": "markdown",
   "metadata": {},
   "source": [
    "> **Note**: Once you have completed all of the code implementations, you need to finalize your work by exporting the IPython Notebook as an HTML document. Before exporting the notebook to html, all of the code cells need to have been run. You can then export the notebook by using the menu above and navigating to  \\n\",\n",
    "    \"**File -> Download as -> HTML (.html)**. Include the finished document along with this notebook as your submission. "
   ]
  },
  {
   "cell_type": "markdown",
   "metadata": {},
   "source": [
    "### Project Writeup\n",
    "\n",
    "Once you have completed the code implementation, document your results in a project writeup using this [template](https://github.com/udacity/CarND-Traffic-Sign-Classifier-Project/blob/master/writeup_template.md) as a guide. The writeup can be in a markdown or pdf file. "
   ]
  }
 ],
 "metadata": {
  "anaconda-cloud": {},
  "kernelspec": {
   "display_name": "Python [default]",
   "language": "python",
   "name": "python3"
  },
  "language_info": {
   "codemirror_mode": {
    "name": "ipython",
    "version": 3
   },
   "file_extension": ".py",
   "mimetype": "text/x-python",
   "name": "python",
   "nbconvert_exporter": "python",
   "pygments_lexer": "ipython3",
   "version": "3.5.2"
  }
 },
 "nbformat": 4,
 "nbformat_minor": 1
}
